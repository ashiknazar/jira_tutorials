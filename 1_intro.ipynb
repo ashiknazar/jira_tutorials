{
 "cells": [
  {
   "cell_type": "markdown",
   "metadata": {},
   "source": [
    "#### Agile Basics"
   ]
  },
  {
   "cell_type": "markdown",
   "metadata": {},
   "source": [
    "- iterative approach to develop a product\n",
    "  -  building and delivering iteratively (traditional waterfall approach)\n",
    "  - promotes early delivery \n",
    "  - adapting to change\n",
    "  - customer feedback"
   ]
  },
  {
   "cell_type": "markdown",
   "metadata": {},
   "source": [
    "- two methodologies under Agile methodologies are\n",
    "  - **scrum**  (time box period of time called sprint)\n",
    "  - **kanban**\n"
   ]
  },
  {
   "cell_type": "markdown",
   "metadata": {},
   "source": [
    "- A <b>Sprint </b> is an amount of time the team commits to completing their work, and delivering a working product by the end of it.\n",
    "- 2 week -> sprint meeting -> **sprint backlog**(priority list of items to work on for next 2 week) -> team holds daily scrum -> end of sprint team present developed product\n",
    " "
   ]
  },
  {
   "cell_type": "markdown",
   "metadata": {},
   "source": [
    "![](images/scrum.png)"
   ]
  },
  {
   "cell_type": "markdown",
   "metadata": {},
   "source": [
    "- kanban workflow\n",
    "    - instead of time sprint kanban uses a \"PULL\" system\n",
    "    - each time team completes a work ,it triggers a pull\n",
    "      "
   ]
  },
  {
   "cell_type": "markdown",
   "metadata": {},
   "source": [
    "- Kanban, on the other hand, is a methodology focused on visualizing workflow and limiting work in progress (**WIP**)."
   ]
  },
  {
   "cell_type": "markdown",
   "metadata": {},
   "source": [
    " #### scrum methodology\n",
    " - projects is broke down into smaller user functionalities - > **Epics** & \n",
    " **user stories**\n",
    " - Epics(large body of work that cannot be completed in one sprint) ->will break into multiple  User sories (Feature or capability that customer wants)\n",
    " - as a user type, i want some capabilty ,so that a benefit can be achieved.\n",
    " \n"
   ]
  },
  {
   "cell_type": "markdown",
   "metadata": {},
   "source": [
    "___"
   ]
  },
  {
   "cell_type": "markdown",
   "metadata": {},
   "source": [
    "___\n",
    "- jira project (shopping software application)\n",
    "  - epic ( shopping cart interface)\n",
    "    - user stories  \n",
    "       1. view product available\n",
    "       2. choose size of item\n",
    "       3. show similar product price\n",
    "___"
   ]
  },
  {
   "cell_type": "markdown",
   "metadata": {},
   "source": [
    "___"
   ]
  },
  {
   "cell_type": "markdown",
   "metadata": {},
   "source": [
    "- jira account instance (website name you created when you initially signup)\n",
    "   - project A | project B | project C\n",
    "   - everything inside jira we create are known as issues ,which are work items or tickets which require a work action from  a pesron \n",
    "   - every ticket we create in jira is known as an issue \n",
    "____\n"
   ]
  },
  {
   "cell_type": "markdown",
   "metadata": {},
   "source": [
    " \n",
    " - jira have 4 issue categories\n",
    " - under project we have **epics** \n",
    "    - **Story** (user story)\n",
    "       - **sub task** (to get view of what to do next,smallest of hierarchy)\n",
    "    - **Bug** (deffect present in previously completed user story)\n",
    "    - **Task** (work required to take an item to \"Done\")\n",
    "\n"
   ]
  },
  {
   "cell_type": "markdown",
   "metadata": {},
   "source": [
    "___\n",
    "![](images/a.png)\n",
    "![](images/b.png)"
   ]
  },
  {
   "cell_type": "markdown",
   "metadata": {},
   "source": [
    "___\n",
    "___"
   ]
  },
  {
   "cell_type": "markdown",
   "metadata": {},
   "source": [
    "___"
   ]
  },
  {
   "cell_type": "markdown",
   "metadata": {},
   "source": [
    "- projects -> create project -> use template(software development->scrum)\n",
    "\n",
    "- choose project type\n",
    "   - team managed project | company managed project(.)"
   ]
  },
  {
   "cell_type": "markdown",
   "metadata": {},
   "source": [
    "- Add project details\n",
    "   - Name(E commerse shopping App)\n",
    "   - Key(ESA)\n",
    "   - Next"
   ]
  },
  {
   "cell_type": "markdown",
   "metadata": {},
   "source": [
    "- jira creates a scrum board with 3 COLUMNS \n",
    "-  1>TODO  \n",
    "- 2>IN PROGRESS \n",
    "- 3> DONE"
   ]
  },
  {
   "cell_type": "markdown",
   "metadata": {},
   "source": [
    "___\n"
   ]
  },
  {
   "cell_type": "markdown",
   "metadata": {},
   "source": [
    "- left side we have a pane (use **[** to expand or collapse )\n",
    "  - Backlog  \n",
    "      - creating issues\n",
    "      - managed by owner or project manager\n",
    "      - use keyboard shortcut **1** to go there\n",
    "  - Active Sprints\n",
    "      - shortcut **2**\n",
    " ___      \n",
    "\n",
    "  "
   ]
  },
  {
   "cell_type": "markdown",
   "metadata": {},
   "source": [
    "#### Epics\n",
    "- shopping cart\n",
    "- product search\n",
    "- cancelling orders\n",
    "- layalities program\n",
    "- user account\n",
    "- shopping location\n",
    "- shopping interface"
   ]
  },
  {
   "cell_type": "markdown",
   "metadata": {},
   "source": [
    "___"
   ]
  },
  {
   "cell_type": "markdown",
   "metadata": {},
   "source": [
    "- Backlog -> create -> choose issue type (Epic)\n",
    "- after creating -> open by \n",
    "   - Backlog ->Epic -> or by shortcut **E**\n",
    "- create 7 Epics"
   ]
  },
  {
   "cell_type": "markdown",
   "metadata": {},
   "source": []
  },
  {
   "cell_type": "markdown",
   "metadata": {},
   "source": []
  },
  {
   "cell_type": "markdown",
   "metadata": {},
   "source": []
  },
  {
   "cell_type": "markdown",
   "metadata": {},
   "source": []
  },
  {
   "cell_type": "markdown",
   "metadata": {},
   "source": []
  },
  {
   "cell_type": "markdown",
   "metadata": {},
   "source": []
  },
  {
   "cell_type": "markdown",
   "metadata": {},
   "source": [
    "### SETTING UP A SPRINT"
   ]
  },
  {
   "cell_type": "markdown",
   "metadata": {},
   "source": [
    "- create **user story** point for each story\n",
    "![](images/effort.png)"
   ]
  },
  {
   "cell_type": "markdown",
   "metadata": {},
   "source": [
    "- Create sprint\n",
    "   - multi select stories and drag stories into the box"
   ]
  },
  {
   "cell_type": "markdown",
   "metadata": {},
   "source": [
    "- start sprint\n",
    "    - sprint name\n",
    "    - duration\n",
    "    - start date \n",
    "    - end date\n",
    "    - start\n",
    "\n"
   ]
  },
  {
   "cell_type": "markdown",
   "metadata": {},
   "source": [
    "- after creating starting sprint \n",
    "  - in top right corner of the dashboard we will have `complete sprint`,`...`\n",
    "  - chose the threedots \n",
    "    -  configure board\n",
    "        - settings - columns - >\n",
    "        - we may already have TO DO|IN PROGRESS | DONE\n",
    "        - `+` Add column"
   ]
  },
  {
   "cell_type": "markdown",
   "metadata": {},
   "source": [
    "- when all issues of a story are dragged across from 'to do' to 'done' a window will pop up-> Update parent issue ->update\n",
    "- when all epics are done -> window popups "
   ]
  },
  {
   "cell_type": "markdown",
   "metadata": {},
   "source": []
  },
  {
   "cell_type": "markdown",
   "metadata": {},
   "source": []
  },
  {
   "cell_type": "markdown",
   "metadata": {},
   "source": []
  },
  {
   "cell_type": "markdown",
   "metadata": {},
   "source": [
    "___\n",
    "___\n",
    "___"
   ]
  },
  {
   "cell_type": "markdown",
   "metadata": {},
   "source": [
    "___\n",
    "- Backlogs\n",
    "    - issues related to stories,bugs,."
   ]
  },
  {
   "cell_type": "markdown",
   "metadata": {},
   "source": [
    "___"
   ]
  },
  {
   "cell_type": "markdown",
   "metadata": {},
   "source": [
    "- EPICS\n",
    "    - Shopping cart\n",
    "    - product search\n",
    "    - cancelling orders\n",
    "    - loyalities program\n",
    "    - user account\n",
    "    - shopping location\n",
    "    - shopping interface"
   ]
  },
  {
   "cell_type": "markdown",
   "metadata": {},
   "source": [
    "![](images/tsk.png)"
   ]
  },
  {
   "cell_type": "markdown",
   "metadata": {},
   "source": []
  },
  {
   "cell_type": "markdown",
   "metadata": {},
   "source": [
    "___\n",
    "##### working with issues\n",
    "- workflows designed centrally\n",
    "- minimum customization\n",
    "- projects subscribe to workflows\n",
    "- available workflows on request\n",
    "   - adt work flow\n",
    "   - simplified workflow\n",
    "<br>\n",
    "- open\n",
    "- in progress\n",
    "- reopened\n",
    "- resolved\n",
    "- closed\n",
    "\n",
    "<br>\n",
    "\n",
    "- resolved mean i have done work\n",
    "- closed means project manager checks commands and decides wether work is completed or not\n",
    "<br>\n",
    "\n",
    "  \n"
   ]
  },
  {
   "cell_type": "markdown",
   "metadata": {},
   "source": [
    "#### work flow\n",
    "![waterfall](images/waterfall.png)"
   ]
  },
  {
   "cell_type": "markdown",
   "metadata": {},
   "source": [
    "- rejected can be done at any stage(anallysis,development,build,.)\n"
   ]
  },
  {
   "cell_type": "markdown",
   "metadata": {},
   "source": [
    "- a workflow defines the series of steps(status) and transitions that an <b>issue</b> goes through from creation to completion .workflows are used to manage and track the progress of tasks,bugs,stories and other work items."
   ]
  },
  {
   "cell_type": "markdown",
   "metadata": {},
   "source": [
    "##### key elements of jira workflow\n",
    "\n",
    "- 1.statuses : represent the stages an issue goes through,such as \"to do\" ,\"in progress\",\"Done\"\n",
    "- 2.Transitions: Action that move an issue from one status to another ,such as 'start progress','review','close'\n",
    "- 3.Resolutions: Define the final outcome of an issue,often set when an issue is marked as done\n",
    "- 4.Conditions: controls who can perform transitions or under what circum stances transitions can happen\n",
    "- 5.Validators:ensure certain criteria are met before a transitions occurs,like requiring a field to be filled out\n",
    "- 6.Post functions:automate actions that occur after a transition,such as updating a field or sending notification.  "
   ]
  },
  {
   "cell_type": "markdown",
   "metadata": {},
   "source": [
    "#### workflow\n",
    "- settings  -> issues -> workflows\n",
    " - Add workflow\n",
    "     - Name : ``TrainingProject Workflow``\n",
    "     - Description:\n",
    " - as soon as we create workflow it goes to `INACTIVE` state (other is ACTIVE state)\n",
    "     - active workflows are used in the project inactive are not \n",
    "\n",
    "- schemes are just a bundle (issuetype,workflow,screens)\n",
    "- diagram\n",
    "- text"
   ]
  },
  {
   "cell_type": "markdown",
   "metadata": {},
   "source": [
    "![diagram](images/diagram.png)"
   ]
  },
  {
   "cell_type": "markdown",
   "metadata": {},
   "source": [
    "- line is called transitions\n",
    "- open is status\n",
    "- circle is first head that issue has created\n",
    "- diagram\n",
    "     - `+ Add status`\n",
    "     -  search for a status or create a status \n",
    "     -  select ->allow all status to transition to this one\n",
    "     - Add\n",
    "          - if new status a  ``Create New Status`` window appears\n",
    "          - select category\n",
    "          - create\n",
    "     - there is an ``All`` option ->from any status you can come to this status\n",
    "     - not recommended for all -> delete transition\n",
    "     \n"
   ]
  },
  {
   "cell_type": "markdown",
   "metadata": {},
   "source": [
    "- in work flow \n",
    "   - we are just creating status\n",
    "       - status name,category\n",
    "   - we are creating transitions\n",
    "   "
   ]
  },
  {
   "cell_type": "markdown",
   "metadata": {},
   "source": [
    "___"
   ]
  },
  {
   "cell_type": "markdown",
   "metadata": {},
   "source": [
    " - issue types\n",
    " - type of ticket\n",
    " - custom issue types\n",
    " - components\n",
    " - correcting label values\n",
    " - moving issues"
   ]
  },
  {
   "cell_type": "markdown",
   "metadata": {},
   "source": [
    "- jira issues\n",
    "   - to manage and track work\n",
    "   - an issue represents work that need to be done\n",
    "   - contains descriptive metadata and relevant information\n",
    "   - displayed on boards that indicate the current state of each work item\n",
    "   "
   ]
  },
  {
   "cell_type": "markdown",
   "metadata": {},
   "source": [
    "- Default issue types\n",
    "   - the kind of work associated with an issue is indicated by its ``issue type``\n",
    "   -  by default\n",
    "      - epic\n",
    "      - story\n",
    "      - task\n",
    "      - bug\n",
    "      - subtask\n",
    "      - improvement\n",
    "      - new feature"
   ]
  },
  {
   "cell_type": "markdown",
   "metadata": {},
   "source": [
    "![issue hierarchy](images/issue_hier.png)"
   ]
  },
  {
   "cell_type": "markdown",
   "metadata": {},
   "source": [
    "___\n",
    "### EPICS\n",
    "   - large features\n",
    "   - typically defined by product managers\n",
    "     - linked to multiple projects ,stories and tasks\n",
    "     - completion of all related work completes the epic\n",
    "   - used for highlevel roadmap in jira"
   ]
  },
  {
   "cell_type": "markdown",
   "metadata": {},
   "source": [
    "___"
   ]
  },
  {
   "cell_type": "markdown",
   "metadata": {},
   "source": [
    "- creating epics\n",
    "  - in backlog -> create(creating issue) -> \n",
    "    - Project :\n",
    "    - Issue Type:\n",
    "       - task\n",
    "       - story\n",
    "       - bug\n",
    "       - epic \n",
    "    - status \n",
    "       - to do\n",
    "    - EPIC NAME: SHOPPING CART\n",
    "    - summary:\n",
    "    - parent: (since this is the epic itself there wont be any parent above it)\n",
    "    - components:\n",
    "    - description: \n",
    "    - reporter : person who created this issue\n",
    "    - priority:\n",
    "    - labels\n",
    "    - linked issues\n",
    "    - assignee \n",
    "    -sprint\n",
    "  - create\n"
   ]
  },
  {
   "cell_type": "markdown",
   "metadata": {},
   "source": [
    "  "
   ]
  }
 ],
 "metadata": {
  "kernelspec": {
   "display_name": "base",
   "language": "python",
   "name": "python3"
  },
  "language_info": {
   "codemirror_mode": {
    "name": "ipython",
    "version": 3
   },
   "file_extension": ".py",
   "mimetype": "text/x-python",
   "name": "python",
   "nbconvert_exporter": "python",
   "pygments_lexer": "ipython3",
   "version": "3.12.7"
  }
 },
 "nbformat": 4,
 "nbformat_minor": 2
}
