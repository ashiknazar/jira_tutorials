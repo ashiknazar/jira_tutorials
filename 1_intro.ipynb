{
 "cells": [
  {
   "cell_type": "markdown",
   "metadata": {},
   "source": [
    "#### Agile Basics"
   ]
  },
  {
   "cell_type": "markdown",
   "metadata": {},
   "source": [
    "- iterative approach to develop a product\n",
    "  -  building and delivering iteratively (traditional waterfall approach)\n",
    "  - promotes early delivery \n",
    "  - adapting to change\n",
    "  - customer feedback"
   ]
  },
  {
   "cell_type": "markdown",
   "metadata": {},
   "source": [
    "- two methodologies \n",
    "  - scrum  (time box period of time called sprint)\n",
    "  - kanban\n"
   ]
  },
  {
   "cell_type": "markdown",
   "metadata": {},
   "source": [
    "- A <b>Sprint </b> is an amount of time the team commits to completing their work, and delivering a working product by the end of it.\n",
    "- 2 week -> sprint meeting -> sprint backlog -> team holds daily scrum -> end of sprint team present developed product\n",
    " "
   ]
  },
  {
   "cell_type": "markdown",
   "metadata": {},
   "source": [
    "- kanban workflow\n",
    "    - instead of time sprint kanban uses a \"PULL\" system\n",
    "    - each time team completes a work ,it triggers a pull\n",
    "      "
   ]
  },
  {
   "cell_type": "markdown",
   "metadata": {},
   "source": [
    "#### scrum methodology\n",
    " - projects is broke down into smaller user functionalities - > Epics & User stories\n",
    " - Epics -> User sories (Feature or capability that customer wants)\n",
    " - as a user type, i want some capabilty ,so that a benefit can be achieved.\n",
    " \n"
   ]
  },
  {
   "cell_type": "markdown",
   "metadata": {},
   "source": [
    " - under Epics jira have 4 issues\n",
    "    - Story (user story)\n",
    "       - sub task\n",
    "    - Bug (deffect present in previously completed user story)\n",
    "    - Task (work required to take an item to \"Done\")\n",
    "\n"
   ]
  },
  {
   "cell_type": "markdown",
   "metadata": {},
   "source": [
    "___\n",
    "##### working with issues\n",
    "- workflows designed centrally\n",
    "- minimum customization\n",
    "- projects subscribe to workflows\n",
    "- available workflows on request\n",
    "   - adt work flow\n",
    "   - simplified workflow\n",
    "<br>\n",
    "- open\n",
    "- in progress\n",
    "- reopened\n",
    "- resolved\n",
    "- closed\n",
    "\n",
    "<br>\n",
    "\n",
    "- resolved mean i have done work\n",
    "- closed means project manager checks commands and decides wether work is completed or not\n",
    "<br>\n",
    "\n",
    "  \n"
   ]
  },
  {
   "cell_type": "markdown",
   "metadata": {},
   "source": [
    "#### work flow\n",
    "![waterfall](images/waterfall.png)"
   ]
  },
  {
   "cell_type": "markdown",
   "metadata": {},
   "source": [
    "- rejected can be done at any stage(anallysis,development,build,.)\n"
   ]
  },
  {
   "cell_type": "markdown",
   "metadata": {},
   "source": [
    "#### workflow\n",
    "- settings  -> issues -> workflows\n",
    " - Add workflow\n",
    "     - Name : \n",
    "     - Description:\n",
    " - as soon as we create workflow it goes to `INACTIVE` state (other is ACTIVE state)\n",
    "     - active workflows are used in the project inactive are not \n",
    "\n",
    "- schemes are just a bundle\n",
    "- diagram\n",
    "- text\n",
    "\n",
    "\n",
    "\n",
    "\n"
   ]
  }
 ],
 "metadata": {
  "language_info": {
   "name": "python"
  }
 },
 "nbformat": 4,
 "nbformat_minor": 2
}
