{
 "cells": [
  {
   "cell_type": "markdown",
   "metadata": {},
   "source": [
    "https://www.youtube.com/watch?v=NDVSMlVYxm8"
   ]
  },
  {
   "cell_type": "markdown",
   "metadata": {},
   "source": [
    "#### Agile Basics"
   ]
  },
  {
   "cell_type": "markdown",
   "metadata": {},
   "source": [
    "- iterative approach to develop a product\n",
    "  -  building and delivering iteratively (traditional waterfall approach)\n",
    "  - promotes early delivery \n",
    "  - adapting to change\n",
    "  - customer feedback"
   ]
  },
  {
   "cell_type": "markdown",
   "metadata": {},
   "source": [
    "- two methodologies under Agile methodologies are\n",
    "  - **scrum**  (time box period of time called sprint)\n",
    "  - **kanban**\n"
   ]
  },
  {
   "cell_type": "markdown",
   "metadata": {},
   "source": [
    "- A <b>Sprint </b> is an amount of time the team commits to completing their work, and delivering a working product by the end of it.\n",
    "- 2 week -> sprint meeting -> **sprint backlog**(priority list of items to work on for next 2 week) -> team holds daily scrum -> end of sprint team present developed product\n",
    " "
   ]
  },
  {
   "cell_type": "markdown",
   "metadata": {},
   "source": [
    "- kanban workflow\n",
    "    - instead of time sprint kanban uses a \"PULL\" system\n",
    "    - each time team completes a work ,it triggers a pull\n",
    "      "
   ]
  },
  {
   "cell_type": "markdown",
   "metadata": {},
   "source": [
    "#### scrum methodology\n",
    " - projects is broke down into smaller user functionalities - > Epics & User stories\n",
    " - Epics -> User sories (Feature or capability that customer wants)\n",
    " - as a user type, i want some capabilty ,so that a benefit can be achieved.\n",
    " \n"
   ]
  },
  {
   "cell_type": "markdown",
   "metadata": {},
   "source": [
    " - under Epics jira have 4 issues\n",
    "    - Story (user story)\n",
    "       - sub task\n",
    "    - Bug (deffect present in previously completed user story)\n",
    "    - Task (work required to take an item to \"Done\")\n",
    "\n"
   ]
  },
  {
   "cell_type": "markdown",
   "metadata": {},
   "source": [
    "___\n",
    "##### working with issues\n",
    "- workflows designed centrally\n",
    "- minimum customization\n",
    "- projects subscribe to workflows\n",
    "- available workflows on request\n",
    "   - adt work flow\n",
    "   - simplified workflow\n",
    "<br>\n",
    "- open\n",
    "- in progress\n",
    "- reopened\n",
    "- resolved\n",
    "- closed\n",
    "\n",
    "<br>\n",
    "\n",
    "- resolved mean i have done work\n",
    "- closed means project manager checks commands and decides wether work is completed or not\n",
    "<br>\n",
    "\n",
    "  \n"
   ]
  },
  {
   "cell_type": "markdown",
   "metadata": {},
   "source": [
    "#### work flow\n",
    "![waterfall](images/waterfall.png)"
   ]
  },
  {
   "cell_type": "markdown",
   "metadata": {},
   "source": [
    "- rejected can be done at any stage(anallysis,development,build,.)\n"
   ]
  },
  {
   "cell_type": "markdown",
   "metadata": {},
   "source": [
    "- a workflow defines the series of steps(status) and transitions that an <b>issue</b> goes through from creation to completion .workflows are used to manage and track the progress of tasks,bugs,stories and other work items."
   ]
  },
  {
   "cell_type": "markdown",
   "metadata": {},
   "source": [
    "##### key elements of jira workflow\n",
    "\n",
    "- 1.statuses : represent the stages an issue goes through,such as \"to do\" ,\"in progress\",\"Done\"\n",
    "- 2.Transitions: Action that move an issue from one status to another ,such as 'start progress','review','close'\n",
    "- 3.Resolutions: Define the final outcome of an issue,often set when an issue is marked as done\n",
    "- 4.Conditions: controls who can perform transitions or under what circum stances transitions can happen\n",
    "- 5.Validators:ensure certain criteria are met before a transitions occurs,like requiring a field to be filled out\n",
    "- 6.Post functions:automate actions that occur after a transition,such as updating a field or sending notification.  "
   ]
  },
  {
   "cell_type": "markdown",
   "metadata": {},
   "source": [
    "#### workflow\n",
    "- settings  -> issues -> workflows\n",
    " - Add workflow\n",
    "     - Name : ``TrainingProject Workflow``\n",
    "     - Description:\n",
    " - as soon as we create workflow it goes to `INACTIVE` state (other is ACTIVE state)\n",
    "     - active workflows are used in the project inactive are not \n",
    "\n",
    "- schemes are just a bundle (issuetype,workflow,screens)\n",
    "- diagram\n",
    "- text"
   ]
  },
  {
   "cell_type": "markdown",
   "metadata": {},
   "source": [
    "![diagram](images/diagram.png)"
   ]
  },
  {
   "cell_type": "markdown",
   "metadata": {},
   "source": [
    "- line is called transitions\n",
    "- open is status\n",
    "- circle is first head that issue has created\n",
    "- diagram\n",
    "     - `+ Add status`\n",
    "     -  search for a status or create a status \n",
    "     -  select ->allow all status to transition to this one\n",
    "     - Add\n",
    "          - if new status a  ``Create New Status`` window appears\n",
    "          - select category\n",
    "          - create\n",
    "     - there is an ``All`` option ->from any status you can come to this status\n",
    "     - not recommended for all -> delete transition\n",
    "     \n"
   ]
  },
  {
   "cell_type": "markdown",
   "metadata": {},
   "source": [
    "- in work flow \n",
    "   - we are just creating status\n",
    "       - status name,category\n",
    "   - we are creating transitions\n",
    "   "
   ]
  },
  {
   "cell_type": "markdown",
   "metadata": {},
   "source": [
    "___"
   ]
  },
  {
   "cell_type": "markdown",
   "metadata": {},
   "source": [
    " - issue types\n",
    " - type of ticket\n",
    " - custom issue types\n",
    " - components\n",
    " - correcting label values\n",
    " - moving issues"
   ]
  },
  {
   "cell_type": "markdown",
   "metadata": {},
   "source": [
    "- jira issues\n",
    "   - to manage and track work\n",
    "   - an issue represents work that need to be done\n",
    "   - contains descriptive metadata and relevant information\n",
    "   - displayed on boards that indicate the current state of each work item\n",
    "   "
   ]
  },
  {
   "cell_type": "markdown",
   "metadata": {},
   "source": [
    "- Default issue types\n",
    "   - the kind of work associated with an issue is indicated by its ``issue type``\n",
    "   -  by default\n",
    "      - epic\n",
    "      - story\n",
    "      - task\n",
    "      - bug\n",
    "      - subtask\n",
    "      - improvement\n",
    "      - new feature"
   ]
  },
  {
   "cell_type": "markdown",
   "metadata": {},
   "source": [
    "![issue hierarchy](images/issue_hier.png)"
   ]
  },
  {
   "cell_type": "markdown",
   "metadata": {},
   "source": [
    "___\n",
    "### EPICS\n",
    "   - large features\n",
    "   - typically defined by product managers\n",
    "     - linked to multiple projects ,stories and tasks\n",
    "     - completion of all related work completes the epic\n",
    "   - used for highlevel roadmap in jira"
   ]
  },
  {
   "cell_type": "markdown",
   "metadata": {},
   "source": []
  }
 ],
 "metadata": {
  "language_info": {
   "name": "python"
  }
 },
 "nbformat": 4,
 "nbformat_minor": 2
}
