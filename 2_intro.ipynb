{
 "cells": [
  {
   "cell_type": "markdown",
   "metadata": {},
   "source": [
    "- project management and issue tracking tool "
   ]
  },
  {
   "cell_type": "markdown",
   "metadata": {},
   "source": [
    "#### basics of agile \n",
    " - agile is a software development methodology that is centered around helping teams get more stuff done by self organizing their work.\n",
    " - agile is ever evolving and changing .its about constantly improving as a team.\n",
    " "
   ]
  },
  {
   "cell_type": "markdown",
   "metadata": {},
   "source": [
    "#### what is agile board ?\n",
    " -  we have different columns\n",
    "     -     TO DO  |  IN PROGRESSS  |  DONE"
   ]
  },
  {
   "cell_type": "markdown",
   "metadata": {},
   "source": [
    "- Under agile two primary ways to organize projects  \n",
    "    -     scrum  |  Kanban\n",
    "    -  the key difference is scrum has sprints kanban does not.\n",
    "      \n"
   ]
  },
  {
   "cell_type": "markdown",
   "metadata": {},
   "source": [
    "- sprint is a pre determined time where teams determine the work to get done .\n",
    "    -  our team has decided on a two week sprint\n",
    "       - every 2 weeks ,our team hold a sprint meeting\n",
    "          - sprint meeting example\n",
    "          - start by discussing last sprint\n",
    "          - what went well\n",
    "          - what didnt go well\n",
    "          - what can we do better next sprint\n",
    "          - discuss and agree on the work to be completed in the next sprint\n"
   ]
  },
  {
   "cell_type": "markdown",
   "metadata": {},
   "source": [
    "![workflow](images/workflow.png)\n"
   ]
  },
  {
   "cell_type": "markdown",
   "metadata": {},
   "source": [
    "- the process is to take a single ticket and drag it alway from left to right.\n",
    "- after 2 week conduct another sprint meeting\n",
    " \n"
   ]
  },
  {
   "cell_type": "markdown",
   "metadata": {},
   "source": [
    "___\n",
    "- some times it might be better for team to work in ``ongoing basis  ``-> thats were `kanban` comes into play\n",
    "- board may look similar but work flow is different\n",
    "- new tickets may added at any time\n",
    "\n"
   ]
  },
  {
   "cell_type": "markdown",
   "metadata": {},
   "source": [
    "___\n",
    "- story\n",
    "   - user story \n",
    "      - As a <type of user>\n",
    "      - i want <some goal>\n",
    "      - so that <some reason>\n",
    "      - as a web developer ,i want to be able to add users to jira so that my coworkers can report bugs.\n",
    "- epics\n",
    "   - an epic is a story that is too big for a single sprint.its broken down into multiple user stories.when those are done ,the epic is complete\n",
    "\n",
    "- Epic\n",
    "  - story#1\n",
    "  - story#2\n",
    "  - story#3\n"
   ]
  },
  {
   "cell_type": "markdown",
   "metadata": {},
   "source": [
    "___\n",
    "##### issues & project"
   ]
  },
  {
   "cell_type": "markdown",
   "metadata": {},
   "source": [
    "- issues \n",
    "   - issues are containers for fields\n",
    "   - fileds hold your data\n",
    "      - example field (description,summary,assignee,due date)"
   ]
  },
  {
   "cell_type": "markdown",
   "metadata": {},
   "source": [
    "- projects are containers for issues"
   ]
  },
  {
   "cell_type": "markdown",
   "metadata": {},
   "source": [
    "\n",
    "![workflow](images/project.png)"
   ]
  },
  {
   "cell_type": "markdown",
   "metadata": {},
   "source": [
    "- stories,epics,bugs are types of issues in jira\n",
    "- can create your own custom issue types\n",
    "- issues hold fields that contains your data\n",
    "- issues live inside your jira projects\n",
    "- projects organize things about issues\n",
    "- you wont be creating a lot of new projects all the time\n"
   ]
  },
  {
   "cell_type": "markdown",
   "metadata": {},
   "source": [
    " ![interface](images/interface.png)"
   ]
  },
  {
   "cell_type": "markdown",
   "metadata": {},
   "source": [
    "- filters are saved searches\n",
    "- ``dash board`` is a quick way to access the things we are working on.``your work`` just work done and assigned to you \n",
    "- can create chart share,..\n",
    "\n"
   ]
  },
  {
   "cell_type": "markdown",
   "metadata": {},
   "source": [
    "- ``create`` -> issue\n",
    "- ``search `` issues,boards,projects,filtlers,peoples"
   ]
  },
  {
   "cell_type": "markdown",
   "metadata": {},
   "source": [
    "#### team managed projects and company managed projects"
   ]
  },
  {
   "cell_type": "markdown",
   "metadata": {},
   "source": [
    "- team managed projects\n",
    "    - do not require any jira administrator permission to create them,all of entities(issue types,status,resolution) live inside projects\n",
    "- company managed projects\n",
    "    - classic projects\n",
    "    - require jira administrator permission to create\n",
    "    - because entities can be shared across other company managed projects\n",
    "- team managed projects  have project scope entities\n",
    "   -  thinks inside team managed project live inside project\n",
    "   -  no special permission to create\n",
    "   -  fast and easy to setup and maintain\n",
    "- company managed projects\n",
    "   - global entities\n",
    "   - must be jira admin to create\n",
    "   - more complicated to setup and maintain\n",
    "   \n",
    "\n",
    "\n",
    "\n",
    "\n",
    "\n"
   ]
  },
  {
   "cell_type": "markdown",
   "metadata": {},
   "source": [
    "#### team manage projects\n",
    "- create project -> software development (select workflow)\n",
    "   - kanban ,scrum ,...\n",
    "- kanban\n",
    "   -   project   -> jira software\n",
    "   -   issue types ->epic,story,bug,task,sub task\n",
    "   -   workflow -> to do,in progress,done\n",
    "   "
   ]
  },
  {
   "cell_type": "markdown",
   "metadata": {},
   "source": [
    "- when we create a team managed project ,we cannot switch it  to a company managed project,and vice versa\n"
   ]
  },
  {
   "cell_type": "markdown",
   "metadata": {},
   "source": [
    "#### navigating along team managed project\n",
    "- Board(kanban)\n",
    "   - create issue \n",
    "   "
   ]
  },
  {
   "cell_type": "markdown",
   "metadata": {},
   "source": [
    "![interface](images/Screenshot300.png)\n",
    "![interface](images/Screenshot301.png)\n",
    "![interface](images/Screenshot302.png)\n",
    "![interface](images/Screenshot303.png)\n",
    "![interface](images/Screenshot304.png)\n",
    "![interface](images/Screenshot305.png)"
   ]
  },
  {
   "cell_type": "markdown",
   "metadata": {
    "vscode": {
     "languageId": "plaintext"
    }
   },
   "source": [
    "- create (c shortcut ) -> issue types will be drop down\n",
    "- project settings -> issue types -> Add issue type -> add suggested/create \n"
   ]
  },
  {
   "cell_type": "markdown",
   "metadata": {},
   "source": [
    "- we can create a new column(like QA) and later drag that column into another column (merged)\n",
    "- if we drop a ticket into these column -> can choose from these two columns -><b>(status)</b>\n"
   ]
  },
  {
   "cell_type": "markdown",
   "metadata": {},
   "source": [
    "- Acces \n",
    "   - who can see our board\n",
    "- features\n",
    "   - roadmap\n",
    "   - code \n",
    "   - \n",
    "- Apps\n",
    "   - App fields\n",
    "   - project Automation\n",
    "   "
   ]
  },
  {
   "cell_type": "markdown",
   "metadata": {},
   "source": [
    "#### creating company managed project"
   ]
  },
  {
   "cell_type": "markdown",
   "metadata": {},
   "source": [
    "##### company managed projects"
   ]
  },
  {
   "cell_type": "markdown",
   "metadata": {},
   "source": [
    "- can have as many boards\n",
    "\n",
    "![interface](images/Screenshot306.png)"
   ]
  },
  {
   "cell_type": "markdown",
   "metadata": {},
   "source": [
    "- backlog\n",
    "    - what work to be done in next sprint is coming from\n",
    "- issues\n",
    "    - all issues\n",
    "- components\n",
    "    - way to group related issues\n",
    "- code \n",
    "- releases\n"
   ]
  },
  {
   "cell_type": "markdown",
   "metadata": {},
   "source": [
    "- project pages -> link to confluence - > wiki\n"
   ]
  },
  {
   "cell_type": "markdown",
   "metadata": {},
   "source": [
    "#### creating new scrum board"
   ]
  },
  {
   "cell_type": "markdown",
   "metadata": {},
   "source": [
    "- create board    create scrum board | create kanban board\n",
    "   -  board from an existing project\n",
    "   - board from an existing saved filter\n",
    " \n"
   ]
  }
 ],
 "metadata": {
  "language_info": {
   "name": "python"
  }
 },
 "nbformat": 4,
 "nbformat_minor": 2
}
