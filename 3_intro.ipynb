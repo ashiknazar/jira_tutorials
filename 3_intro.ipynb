{
 "cells": [
  {
   "cell_type": "markdown",
   "metadata": {},
   "source": [
    "4:52:30 intellipat_video"
   ]
  },
  {
   "cell_type": "markdown",
   "metadata": {},
   "source": [
    "### AGENDA"
   ]
  },
  {
   "cell_type": "markdown",
   "metadata": {},
   "source": [
    "- managing projects\n",
    "- jira user types\n",
    "- scope of responsibilities\n",
    "- your mission as an administrator\n",
    "- sample workflow design\n",
    "- creating workflow in jira\n",
    "- jira software issue type hierarchy\n",
    "- business requirements\n",
    "- components creations,reporting,lists& assignments\n",
    "- labels & custom fields\n",
    "- issue type screen scheme\n",
    "- configuring a field configuration scheme\n",
    "- permissions terminology,jira permissions,roles& cases\n",
    "- complete hands on"
   ]
  },
  {
   "cell_type": "markdown",
   "metadata": {},
   "source": [
    "- planning,tracking,and managing tool"
   ]
  },
  {
   "cell_type": "markdown",
   "metadata": {},
   "source": [
    "##### managing projects\n"
   ]
  },
  {
   "cell_type": "markdown",
   "metadata": {},
   "source": [
    "- jira administrator types\n",
    "  -  site administrator (manages users and groups for the jira site)\n",
    "  -  jira administator(configue the jira instance for all users)\n",
    "  -  project administrator(configures and maintains projects to match the teams process)\n",
    "  -  team member(works on projects)\n",
    "       \n"
   ]
  },
  {
   "cell_type": "markdown",
   "metadata": {},
   "source": [
    "#### scope and responsibilities of project manager\n",
    "-depending on your teams structure ,project administration typically involves some combination of \n",
    "  - gathering business requirements\n",
    "  - working with jira administrators to implement projects,configurations,and customizations\n",
    "  - granting user access through project roles\n",
    "  - managing boards,sprints , and backlogs\n",
    "  - creating reporting dashboards\n",
    "  - monitoring the health of jira projects\n",
    "  "
   ]
  },
  {
   "cell_type": "markdown",
   "metadata": {},
   "source": [
    "- mission as a project administrator\n",
    "   - make project easy to use\n",
    "   - help your team get their work done\n",
    "   - help jira administrator"
   ]
  },
  {
   "cell_type": "markdown",
   "metadata": {},
   "source": []
  }
 ],
 "metadata": {
  "language_info": {
   "name": "python"
  }
 },
 "nbformat": 4,
 "nbformat_minor": 2
}
